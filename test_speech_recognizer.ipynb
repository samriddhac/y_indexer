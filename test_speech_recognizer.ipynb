{
 "cells": [
  {
   "cell_type": "code",
   "execution_count": 1,
   "metadata": {},
   "outputs": [],
   "source": [
    "import speech_recognition as sr\n",
    "import urllib"
   ]
  },
  {
   "cell_type": "code",
   "execution_count": 7,
   "metadata": {},
   "outputs": [],
   "source": [
    "file = 'C:\\downloaded_videos\\_2gHV0WeXjo_001.wav'"
   ]
  },
  {
   "cell_type": "code",
   "execution_count": 8,
   "metadata": {},
   "outputs": [],
   "source": [
    "def perform_aws_transcribe(id):\n",
    "    in_file_path = file\n",
    "    in_file_name = id + '.wav'\n",
    "    out_text_file_path = 'C:\\downloaded_videos\\_2gHV0WeXjo_001_transcribe.txt'\n",
    "    try:\n",
    "        cmd_1 = ['aws', 's3', 'ls', \n",
    "                 's3://video-uploads-sam/sRyslbdtT90_001.wav']\n",
    "        p = subprocess.Popen(cmd_1, stdin=subprocess.PIPE, stdout=subprocess.PIPE, stderr=subprocess.PIPE)\n",
    "        output, err = p.communicate()\n",
    "        print(output, err)\n",
    "        if output is None or output.decode(\"utf-8\") == '':\n",
    "            command = ['aws', 's3', 'cp', in_file_path, 's3://video-uploads-sam/']\n",
    "            subprocess.call(command, shell=True)\n",
    "            print('Audio transffered to s3 location')\n",
    "        transcribe = boto3.client('transcribe', region_name='us-west-2')\n",
    "        job_name = id+\"_job_\"+str(current_milli_time())\n",
    "        job_uri = 'https://s3-us-west-2.amazonaws.com/video-uploads-sam/'+id+'.wav'\n",
    "        transcribe.start_transcription_job(\n",
    "            TranscriptionJobName=job_name,\n",
    "            Media={'MediaFileUri': job_uri},\n",
    "            MediaFormat='wav',\n",
    "            LanguageCode='en-US'\n",
    "        )\n",
    "        while True:\n",
    "            status = transcribe.get_transcription_job(TranscriptionJobName=job_name)\n",
    "            if status['TranscriptionJob']['TranscriptionJobStatus'] in ['COMPLETED', 'FAILED']:\n",
    "                break\n",
    "            print(\"Not ready yet...\")\n",
    "            time.sleep(5)\n",
    "        print(status)\n",
    "        if status['TranscriptionJob']['Transcript']['TranscriptFileUri']:\n",
    "            transcript_uri = status['TranscriptionJob']['Transcript']['TranscriptFileUri']\n",
    "            print(transcript_uri)\n",
    "            tr_file_name = 'aws_asrOutput_'+id+'.json'\n",
    "            urllib.request.urlretrieve(transcript_uri,tr_file_name)\n",
    "            with open(tr_file_name, 'r', encoding='utf8') as f:\n",
    "                content = f.read()\n",
    "                print(content)\n",
    "                with open(out_text_file_path, 'w') as fs:\n",
    "                    fs.write(content)\n",
    "                \n",
    "    except:\n",
    "        print('Conversion failed ', sys.exc_info()[0])\n",
    "        raise"
   ]
  },
  {
   "cell_type": "code",
   "execution_count": 9,
   "metadata": {},
   "outputs": [],
   "source": [
    "r = sr.Recognizer()"
   ]
  },
  {
   "cell_type": "code",
   "execution_count": 10,
   "metadata": {},
   "outputs": [
    {
     "name": "stdout",
     "output_type": "stream",
     "text": [
      "you still be reading an article and you go in two thousand and eighteen generally speaking of c yes of course have to tip programming that you're going to do in recent years years to the back lash interpol p o p sure for all people do programming because it sad has all been to hawaii and more hits things i think the quote for many years now that i should be bad for being critical of watchword to program in avatar before in too early to say that i don't think ought to torture program you should be for well with the bath will watch her as they say i think you should be used properly and in the water ration soul with sir paul paul to or to program will have the zion you have an idea of water torture program they were basically you can figure you're cold you rachel cool enough for both pro or lactic objects the idea is to create code that easy to read these you tube copy\n"
     ]
    }
   ],
   "source": [
    "with sr.AudioFile(file) as source:\n",
    "    audio = r.record(source)\n",
    "    try:\n",
    "        raw_text =r.recognize_sphinx(audio)\n",
    "        print(raw_text)\n",
    "    except sr.UnknownValueError:\n",
    "        print(\"Sphinx could not understand audio\")\n",
    "    except sr.RequestError as e:\n",
    "        print(\"Sphinx error; {0}\".format(e))"
   ]
  },
  {
   "cell_type": "code",
   "execution_count": 10,
   "metadata": {},
   "outputs": [],
   "source": [
    "import subprocess"
   ]
  },
  {
   "cell_type": "code",
   "execution_count": 22,
   "metadata": {},
   "outputs": [],
   "source": [
    "import boto3\n",
    "import sys\n",
    "import time"
   ]
  },
  {
   "cell_type": "code",
   "execution_count": 23,
   "metadata": {},
   "outputs": [],
   "source": [
    "current_milli_time = lambda: int(round(time.time() * 1000))"
   ]
  },
  {
   "cell_type": "code",
   "execution_count": 33,
   "metadata": {},
   "outputs": [
    {
     "name": "stdout",
     "output_type": "stream",
     "text": [
      "b'2018-08-28 16:24:29    5751336 _2gHV0WeXjo_001.wav\\r\\n' b''\n",
      "Conversion failed  <class 'botocore.errorfactory.BadRequestException'>\n"
     ]
    },
    {
     "ename": "BadRequestException",
     "evalue": "An error occurred (BadRequestException) when calling the StartTranscriptionJob operation: The URI that you provided doesn't point to an S3 object. Make sure that the object exists and try your request again.",
     "output_type": "error",
     "traceback": [
      "\u001b[1;31m---------------------------------------------------------------------------\u001b[0m",
      "\u001b[1;31mBadRequestException\u001b[0m                       Traceback (most recent call last)",
      "\u001b[1;32m<ipython-input-33-22c2d827cd6e>\u001b[0m in \u001b[0;36m<module>\u001b[1;34m()\u001b[0m\n\u001b[1;32m----> 1\u001b[1;33m \u001b[0mperform_aws_transcribe\u001b[0m\u001b[1;33m(\u001b[0m\u001b[1;34m'sRyslbdtT90_001'\u001b[0m\u001b[1;33m)\u001b[0m\u001b[1;33m\u001b[0m\u001b[0m\n\u001b[0m",
      "\u001b[1;32m<ipython-input-30-184c22327c69>\u001b[0m in \u001b[0;36mperform_aws_transcribe\u001b[1;34m(id)\u001b[0m\n\u001b[0;32m     20\u001b[0m             \u001b[0mMedia\u001b[0m\u001b[1;33m=\u001b[0m\u001b[1;33m{\u001b[0m\u001b[1;34m'MediaFileUri'\u001b[0m\u001b[1;33m:\u001b[0m \u001b[0mjob_uri\u001b[0m\u001b[1;33m}\u001b[0m\u001b[1;33m,\u001b[0m\u001b[1;33m\u001b[0m\u001b[0m\n\u001b[0;32m     21\u001b[0m             \u001b[0mMediaFormat\u001b[0m\u001b[1;33m=\u001b[0m\u001b[1;34m'wav'\u001b[0m\u001b[1;33m,\u001b[0m\u001b[1;33m\u001b[0m\u001b[0m\n\u001b[1;32m---> 22\u001b[1;33m             \u001b[0mLanguageCode\u001b[0m\u001b[1;33m=\u001b[0m\u001b[1;34m'en-US'\u001b[0m\u001b[1;33m\u001b[0m\u001b[0m\n\u001b[0m\u001b[0;32m     23\u001b[0m         )\n\u001b[0;32m     24\u001b[0m         \u001b[1;32mwhile\u001b[0m \u001b[1;32mTrue\u001b[0m\u001b[1;33m:\u001b[0m\u001b[1;33m\u001b[0m\u001b[0m\n",
      "\u001b[1;32m~\\AppData\\Local\\Continuum\\anaconda3\\lib\\site-packages\\botocore\\client.py\u001b[0m in \u001b[0;36m_api_call\u001b[1;34m(self, *args, **kwargs)\u001b[0m\n\u001b[0;32m    312\u001b[0m                     \"%s() only accepts keyword arguments.\" % py_operation_name)\n\u001b[0;32m    313\u001b[0m             \u001b[1;31m# The \"self\" in this scope is referring to the BaseClient.\u001b[0m\u001b[1;33m\u001b[0m\u001b[1;33m\u001b[0m\u001b[0m\n\u001b[1;32m--> 314\u001b[1;33m             \u001b[1;32mreturn\u001b[0m \u001b[0mself\u001b[0m\u001b[1;33m.\u001b[0m\u001b[0m_make_api_call\u001b[0m\u001b[1;33m(\u001b[0m\u001b[0moperation_name\u001b[0m\u001b[1;33m,\u001b[0m \u001b[0mkwargs\u001b[0m\u001b[1;33m)\u001b[0m\u001b[1;33m\u001b[0m\u001b[0m\n\u001b[0m\u001b[0;32m    315\u001b[0m \u001b[1;33m\u001b[0m\u001b[0m\n\u001b[0;32m    316\u001b[0m         \u001b[0m_api_call\u001b[0m\u001b[1;33m.\u001b[0m\u001b[0m__name__\u001b[0m \u001b[1;33m=\u001b[0m \u001b[0mstr\u001b[0m\u001b[1;33m(\u001b[0m\u001b[0mpy_operation_name\u001b[0m\u001b[1;33m)\u001b[0m\u001b[1;33m\u001b[0m\u001b[0m\n",
      "\u001b[1;32m~\\AppData\\Local\\Continuum\\anaconda3\\lib\\site-packages\\botocore\\client.py\u001b[0m in \u001b[0;36m_make_api_call\u001b[1;34m(self, operation_name, api_params)\u001b[0m\n\u001b[0;32m    610\u001b[0m             \u001b[0merror_code\u001b[0m \u001b[1;33m=\u001b[0m \u001b[0mparsed_response\u001b[0m\u001b[1;33m.\u001b[0m\u001b[0mget\u001b[0m\u001b[1;33m(\u001b[0m\u001b[1;34m\"Error\"\u001b[0m\u001b[1;33m,\u001b[0m \u001b[1;33m{\u001b[0m\u001b[1;33m}\u001b[0m\u001b[1;33m)\u001b[0m\u001b[1;33m.\u001b[0m\u001b[0mget\u001b[0m\u001b[1;33m(\u001b[0m\u001b[1;34m\"Code\"\u001b[0m\u001b[1;33m)\u001b[0m\u001b[1;33m\u001b[0m\u001b[0m\n\u001b[0;32m    611\u001b[0m             \u001b[0merror_class\u001b[0m \u001b[1;33m=\u001b[0m \u001b[0mself\u001b[0m\u001b[1;33m.\u001b[0m\u001b[0mexceptions\u001b[0m\u001b[1;33m.\u001b[0m\u001b[0mfrom_code\u001b[0m\u001b[1;33m(\u001b[0m\u001b[0merror_code\u001b[0m\u001b[1;33m)\u001b[0m\u001b[1;33m\u001b[0m\u001b[0m\n\u001b[1;32m--> 612\u001b[1;33m             \u001b[1;32mraise\u001b[0m \u001b[0merror_class\u001b[0m\u001b[1;33m(\u001b[0m\u001b[0mparsed_response\u001b[0m\u001b[1;33m,\u001b[0m \u001b[0moperation_name\u001b[0m\u001b[1;33m)\u001b[0m\u001b[1;33m\u001b[0m\u001b[0m\n\u001b[0m\u001b[0;32m    613\u001b[0m         \u001b[1;32melse\u001b[0m\u001b[1;33m:\u001b[0m\u001b[1;33m\u001b[0m\u001b[0m\n\u001b[0;32m    614\u001b[0m             \u001b[1;32mreturn\u001b[0m \u001b[0mparsed_response\u001b[0m\u001b[1;33m\u001b[0m\u001b[0m\n",
      "\u001b[1;31mBadRequestException\u001b[0m: An error occurred (BadRequestException) when calling the StartTranscriptionJob operation: The URI that you provided doesn't point to an S3 object. Make sure that the object exists and try your request again."
     ]
    }
   ],
   "source": [
    "perform_aws_transcribe('sRyslbdtT90_001')"
   ]
  },
  {
   "cell_type": "code",
   "execution_count": 28,
   "metadata": {},
   "outputs": [
    {
     "data": {
      "text/plain": [
       "\"You still be ready, object wanted code in two thousand eighteen. Generally speaking, i would say yes, but of course it depends on the type of programming, but you're going to do. In recent years, there's been a bit of a backlash against o p o p chauffeur object going to programming because it has a bunch ofthe land mines, things i've been critical of for many years now, when i have actually taken eaten pass for being critical of object oriented programming in that regard, before i get into it, let me just say that i don't think object or to program he should be thrown out with the bath wall water, as they say, i think it should be used properly and in moderation, so what's the problem all project according to programming well, what happened is that you have an idea with object or into programming where basically you configure your code you rachel code in the form of programmatic objects. The idea is to create code that's. Easier to read, easier to update.\""
      ]
     },
     "execution_count": 28,
     "metadata": {},
     "output_type": "execute_result"
    }
   ],
   "source": [
    "\"\"\"You still be ready, object wanted code in two thousand eighteen. Generally speaking, i would say yes, but of course it depends on the type of programming, but you're going to do. In recent years, there's been a bit of a backlash against o p o p chauffeur object going to programming because it has a bunch ofthe land mines, things i've been critical of for many years now, when i have actually taken eaten pass for being critical of object oriented programming in that regard, before i get into it, let me just say that i don't think object or to program he should be thrown out with the bath wall water, as they say, i think it should be used properly and in moderation, so what's the problem all project according to programming well, what happened is that you have an idea with object or into programming where basically you configure your code you rachel code in the form of programmatic objects. The idea is to create code that's. Easier to read, easier to update.\"\"\""
   ]
  },
  {
   "cell_type": "code",
   "execution_count": null,
   "metadata": {},
   "outputs": [],
   "source": []
  }
 ],
 "metadata": {
  "kernelspec": {
   "display_name": "Python 3",
   "language": "python",
   "name": "python3"
  },
  "language_info": {
   "codemirror_mode": {
    "name": "ipython",
    "version": 3
   },
   "file_extension": ".py",
   "mimetype": "text/x-python",
   "name": "python",
   "nbconvert_exporter": "python",
   "pygments_lexer": "ipython3",
   "version": "3.6.5"
  }
 },
 "nbformat": 4,
 "nbformat_minor": 2
}
